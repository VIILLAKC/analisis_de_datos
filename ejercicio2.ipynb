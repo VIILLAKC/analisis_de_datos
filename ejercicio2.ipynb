{
 "cells": [
  {
   "cell_type": "markdown",
   "metadata": {},
   "source": [
    "# Ejercicio 2\n",
    "\n",
    " \n",
    "En un Ecommerce en el que se venden 3 productos:\n",
    "\n",
    "Libretas 100 hojas\n",
    "* Venta al público $20 pesos\n",
    "* Utilidad bruta $5 pesos\n",
    "* Utilidad bruta total 2023 $60,000\n",
    "\n",
    "Lápices $5 pesos\n",
    "* Venta al público $20 pesos\n",
    "* Utilidad bruta $1.5 pesos\n",
    "* Utilidad bruta total 2023 $90,000\n",
    "\n",
    "Agendas $40 pesos\n",
    "* Venta al público $20 pesos\n",
    "* Utilidad bruta $5 pesos\n",
    "* Utilidad bruta total 2023 $24,000\n",
    " \n",
    "\n",
    "En 2024 se planea el lanzamiento del producto “libretas 50 hojas” con un costo de $12 pesos (se estima una utilidad bruta por pieza $3). La hipótesis del departamento de nuevos productos es; “las libretas de 100 hojas se dejarán de vender ya que los clientes preferirán gastar menos y comprarán las de 50 hojas”. Si la premisa fuera real necesitamos saber cuál es el impacto a negocio resolviendo los siguientes puntos:\n",
    "\n",
    " \n",
    "\n",
    "Para el año 2024 (considerar el año completo)\n",
    "* ¿Cuál será la utilidad bruta de las libretas de 100 hojas si las ventas se contraen en 40% respecto 2023?\n",
    "\n",
    "* Si las ventas de las libretas de 50 hojas cubren el volumen perdido de las de 100 hojas ¿de cuánto será la utilidad bruta de las libretas de 50 hojas en 2024?\n",
    "\n",
    "* ¿Cuál será la utilidad bruta total compañía en 2024 si las ventas de los lápices y las agendas crecen 30% respecto 2023?\n",
    "\n",
    "* De acuerdo con los resultados anteriores ¿será eficiente para el negocio llevar a cabo el lanzamiento de las libretas de 50 hojas si el porcentaje de crecimiento esperado a total compañía para 2024 es de 25%?\n",
    "\n",
    "* ¿Cuál sería tu recomendación al negocio?"
   ]
  },
  {
   "cell_type": "markdown",
   "metadata": {},
   "source": [
    "## ¿Cuál será la utilidad bruta de las libretas de 100 hojas si las ventas se contraen en 40% respecto 2023?"
   ]
  },
  {
   "cell_type": "markdown",
   "metadata": {},
   "source": [
    "r = 36,000"
   ]
  },
  {
   "cell_type": "code",
   "execution_count": 23,
   "metadata": {},
   "outputs": [
    {
     "data": {
      "text/plain": [
       "36000.0"
      ]
     },
     "execution_count": 23,
     "metadata": {},
     "output_type": "execute_result"
    }
   ],
   "source": [
    "public_sale = 20 \n",
    "gross_profit_per_unit = 5 \n",
    "total_gross_profit_2023 = 60000 \n",
    "contraction_percentage = 40 \n",
    "\n",
    "\n",
    "units_sold_2023 = total_gross_profit_2023 / gross_profit_per_unit \n",
    "\n",
    "units_sold_2024_with_contraction = units_sold_2023 * (1 - contraction_percentage / 100) \n",
    "\n",
    "gross_profit_2024_correct = units_sold_2024_with_contraction * gross_profit_per_unit\n",
    "\n",
    "gross_profit_2024_correct"
   ]
  },
  {
   "cell_type": "markdown",
   "metadata": {},
   "source": [
    "## Si las ventas de las libretas de 50 hojas cubren el volumen perdido de las de 100 hojas ¿de cuánto será la utilidad bruta de las libretas de 50 hojas en 2024?"
   ]
  },
  {
   "cell_type": "markdown",
   "metadata": {},
   "source": [
    "r = 14,400"
   ]
  },
  {
   "cell_type": "code",
   "execution_count": 18,
   "metadata": {},
   "outputs": [
    {
     "data": {
      "text/plain": [
       "14400.0"
      ]
     },
     "execution_count": 18,
     "metadata": {},
     "output_type": "execute_result"
    }
   ],
   "source": [
    "utility_per_unit_50_sheets = 3\n",
    "\n",
    "unit_volume = units_sold_2023 - units_sold_2024_with_contraction\n",
    "utility_notebook_50_2024 = unit_volume * utility_per_unit_50_sheets\n",
    "\n",
    "utility_notebook_50_2024\n"
   ]
  },
  {
   "cell_type": "markdown",
   "metadata": {},
   "source": [
    "## ¿Cuál será la utilidad bruta total de la compañía en 2024 si las ventas de los lápices y las agendas crecen 30% respecto 2023?"
   ]
  },
  {
   "cell_type": "markdown",
   "metadata": {},
   "source": [
    "r = 198600"
   ]
  },
  {
   "cell_type": "code",
   "execution_count": 20,
   "metadata": {},
   "outputs": [
    {
     "data": {
      "text/plain": [
       "198600.0"
      ]
     },
     "execution_count": 20,
     "metadata": {},
     "output_type": "execute_result"
    }
   ],
   "source": [
    "gross_utility_total_pencils_2023 = 90000\n",
    "gross_profit_total_agendas_2023 = 24000\n",
    "gross_profit_total_notebooks_100_2023 = gross_profit_2024_correct\n",
    "gross_profit_total_notebooks_50_2023 = utility_notebook_50_2024\n",
    "\n",
    "percentage = 0.30\n",
    "\n",
    "gross_utility_pencils_2024 = gross_utility_total_pencils_2023 * (1 + percentage)\n",
    "gross_profit_agendas_2024 = gross_profit_total_agendas_2023 * (1 + percentage)\n",
    "\n",
    "gross_profit_total_company_2024 = ( gross_profit_total_notebooks_100_2023 + \n",
    "                                    gross_utility_pencils_2024 + \n",
    "                                    gross_profit_total_notebooks_50_2023 +\n",
    "                                    gross_profit_agendas_2024)\n",
    "\n",
    "gross_profit_total_company_2024\n"
   ]
  },
  {
   "cell_type": "markdown",
   "metadata": {},
   "source": [
    "## De acuerdo con los resultados anteriores ¿será eficiente para el negocio llevar a cabo el lanzamiento de las libretas de 50 hojas si el porcentaje de crecimiento esperado a total compañía para 2024 es de 25%?"
   ]
  },
  {
   "cell_type": "markdown",
   "metadata": {},
   "source": [
    "r = Basado en los cálculos realizados, si la empresa establece como objetivo un crecimiento del 25% en su utilidad bruta total para 2024, y los resultados obtenidos indican solo un crecimiento del 14.1379%, lanzar las libretas de 50 hojas bajo las condiciones actuales no parece ser la estrategia más eficiente para alcanzar sus metas financieras. Este análisis sugiere que, aunque la introducción de las libretas de 50 hojas puede compensar parcialmente la contracción en las ventas de las libretas de 100 hojas, <strong>no contribuye suficientemente al crecimiento general de la empresa como se había previsto.</strong>"
   ]
  },
  {
   "cell_type": "code",
   "execution_count": 22,
   "metadata": {},
   "outputs": [
    {
     "data": {
      "text/plain": [
       "14.13793103448276"
      ]
     },
     "execution_count": 22,
     "metadata": {},
     "output_type": "execute_result"
    }
   ],
   "source": [
    "gross_profit_total_company_2023 = total_gross_profit_2023 + gross_utility_total_pencils_2023 + gross_profit_total_agendas_2023\n",
    "\n",
    "growth_percentage_2024 = ((gross_profit_total_company_2024 - gross_profit_total_company_2023) / gross_profit_total_company_2023) * 100\n",
    "\n",
    "growth_percentage_2024\n"
   ]
  },
  {
   "cell_type": "markdown",
   "metadata": {},
   "source": [
    "## Recomendación al Negocio"
   ]
  },
  {
   "cell_type": "markdown",
   "metadata": {},
   "source": [
    "Dado que el crecimiento proyectado de la utilidad bruta total de la compañía con el lanzamiento de las libretas de 50 hojas es del 14.14% aprox, lo cual no cumple con el objetivo de crecimiento del 25%, recomendaría revisar la estrategia para el lanzamiento de este nuevo producto. Buscando alternativas para aumentar la utilidad bruta de los productos actuales, o bien, replantear la estrategia de lanzamiento de las libretas de 50 hojas, con el fin de que contribuya de manera más significativa al crecimiento de la empresa."
   ]
  }
 ],
 "metadata": {
  "kernelspec": {
   "display_name": "entrevista",
   "language": "python",
   "name": "python3"
  },
  "language_info": {
   "codemirror_mode": {
    "name": "ipython",
    "version": 3
   },
   "file_extension": ".py",
   "mimetype": "text/x-python",
   "name": "python",
   "nbconvert_exporter": "python",
   "pygments_lexer": "ipython3",
   "version": "3.10.13"
  }
 },
 "nbformat": 4,
 "nbformat_minor": 2
}
